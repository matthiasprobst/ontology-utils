{
 "cells": [
  {
   "cell_type": "markdown",
   "id": "9b8289b6-aae7-4b4d-b543-93c188002651",
   "metadata": {},
   "source": [
    "# Classes\n",
    "\n",
    "Code from https://ontology-utils.readthedocs.io/en/latest/userguide/classes.html"
   ]
  },
  {
   "cell_type": "code",
   "execution_count": 1,
   "id": "8064935e-e5a1-4a43-bef7-7ce7bebe142d",
   "metadata": {},
   "outputs": [],
   "source": [
    "from ontolutils import Thing, urirefs, namespaces\n",
    "from pydantic import EmailStr\n",
    "\n",
    "@namespaces(prov=\"http://www.w3.org/ns/prov#\",\n",
    "           foaf=\"http://xmlns.com/foaf/0.1/\")\n",
    "@urirefs(Person='prov:Person',\n",
    "         firstName='foaf:firstName',\n",
    "         lastName='foaf:lastName',\n",
    "         mbox='foaf:mbox')\n",
    "class Person(Thing):\n",
    "    firstName: str\n",
    "    lastName: str = None\n",
    "    mbox: EmailStr = None"
   ]
  },
  {
   "cell_type": "code",
   "execution_count": 2,
   "id": "5395526c-b854-42b7-b23a-73575b6f014b",
   "metadata": {},
   "outputs": [],
   "source": [
    "person = Person(id='_:123uf4', label='test_person', firstName=\"John\", mbox=\"john@email.com\")"
   ]
  },
  {
   "cell_type": "code",
   "execution_count": 3,
   "id": "3fbf9cfc-9e60-446a-adbd-825cef577ad3",
   "metadata": {},
   "outputs": [
    {
     "name": "stdout",
     "output_type": "stream",
     "text": [
      "{\n",
      "    \"@context\": {\n",
      "        \"owl\": \"http://www.w3.org/2002/07/owl#\",\n",
      "        \"rdfs\": \"http://www.w3.org/2000/01/rdf-schema#\",\n",
      "        \"dcterms\": \"http://purl.org/dc/terms/\",\n",
      "        \"skos\": \"http://www.w3.org/2004/02/skos/core#\",\n",
      "        \"prov\": \"http://www.w3.org/ns/prov#\",\n",
      "        \"foaf\": \"http://xmlns.com/foaf/0.1/\"\n",
      "    },\n",
      "    \"@type\": \"prov:Person\",\n",
      "    \"rdfs:label\": \"test_person\",\n",
      "    \"foaf:firstName\": \"John\",\n",
      "    \"foaf:mbox\": \"john@email.com\",\n",
      "    \"@id\": \"_:123uf4\"\n",
      "}\n"
     ]
    }
   ],
   "source": [
    "person = Person(id='_:123uf4', label='test_person', firstName=\"John\", mbox=\"john@email.com\")\n",
    "print(person.model_dump_jsonld())"
   ]
  },
  {
   "cell_type": "code",
   "execution_count": 4,
   "id": "13cc57ba-3b44-4321-a018-c1e26a2ad26c",
   "metadata": {},
   "outputs": [],
   "source": [
    "with open(\"person.json\", \"w\") as f:\n",
    "    f.write(person.model_dump_jsonld())"
   ]
  },
  {
   "cell_type": "code",
   "execution_count": 5,
   "id": "dba57e94-cad4-44fe-bc43-3a4f9f4abd8d",
   "metadata": {},
   "outputs": [
    {
     "name": "stdout",
     "output_type": "stream",
     "text": [
      "Person(id=_:123uf4, label=test_person, firstName=John, mbox=john@email.com)\n"
     ]
    }
   ],
   "source": [
    "loaded_person = Person.from_jsonld(source=\"person.json\", limit=1)\n",
    "print(loaded_person)"
   ]
  },
  {
   "cell_type": "code",
   "execution_count": 6,
   "id": "83a6cdc7-b099-4fc5-b335-f63a75dcb655",
   "metadata": {},
   "outputs": [
    {
     "name": "stdout",
     "output_type": "stream",
     "text": [
      "Person(id=ex:0, label=test_person, firstName=John, mbox=e@mail.com)\n"
     ]
    }
   ],
   "source": [
    "from ontolutils import Thing, urirefs, namespaces, set_config\n",
    "from pydantic import EmailStr\n",
    "\n",
    "@namespaces(prov=\"http://www.w3.org/ns/prov#\",\n",
    "           foaf=\"http://xmlns.com/foaf/0.1/\")\n",
    "@urirefs(Person='prov:Person',\n",
    "         firstName='foaf:firstName',\n",
    "         lastName='foaf:lastName',\n",
    "         mbox='foaf:mbox')\n",
    "class Person(Thing):\n",
    "    firstName: str\n",
    "    lastName: str = None\n",
    "    mbox: EmailStr = None\n",
    "\n",
    "# define an ID generator:\n",
    "from itertools import count\n",
    "counter = count()\n",
    "def my_id_generator():\n",
    "    return f\"_:{next(counter)}\"\n",
    "\n",
    "# set the config:\n",
    "with set_config(blank_node_prefix_name=\"ex:\", blank_id_generator=my_id_generator):\n",
    "    \n",
    "    person = Person(label='test_person', firstName=\"John\", mbox=\"e@mail.com\")\n",
    "\n",
    "    print(person)"
   ]
  },
  {
   "cell_type": "code",
   "execution_count": 7,
   "id": "24101d73-232f-4d9a-bbb1-f181f1b52f2f",
   "metadata": {},
   "outputs": [],
   "source": [
    "from ontolutils import URIValue"
   ]
  },
  {
   "cell_type": "code",
   "execution_count": 8,
   "id": "d92d74e6-9c0d-43a2-90f9-39c32d67d8b0",
   "metadata": {},
   "outputs": [],
   "source": [
    "@namespaces(prov=\"http://www.w3.org/ns/prov#\",\n",
    "           foaf=\"http://xmlns.com/foaf/0.1/\")\n",
    "@urirefs(Person='prov:Person',\n",
    "         firstName='foaf:firstName',\n",
    "         lastName='foaf:lastName',\n",
    "         mbox='foaf:mbox')\n",
    "class Person(Thing):\n",
    "    firstName: str\n",
    "    lastName: str = None\n",
    "    mbox: EmailStr = None\n",
    "\n",
    "person = Person(label='test_person', firstName=\"John\", mbox=\"e@mail.com\", homeTown=URIValue(\"Berlin\", \"https://example.org\", \"ex\"))"
   ]
  },
  {
   "cell_type": "code",
   "execution_count": 9,
   "id": "640797c8-283e-4169-ba1f-601a598c2750",
   "metadata": {},
   "outputs": [
    {
     "name": "stdout",
     "output_type": "stream",
     "text": [
      "{\n",
      "    \"@context\": {\n",
      "        \"owl\": \"http://www.w3.org/2002/07/owl#\",\n",
      "        \"rdfs\": \"http://www.w3.org/2000/01/rdf-schema#\",\n",
      "        \"dcterms\": \"http://purl.org/dc/terms/\",\n",
      "        \"skos\": \"http://www.w3.org/2004/02/skos/core#\",\n",
      "        \"prov\": \"http://www.w3.org/ns/prov#\",\n",
      "        \"foaf\": \"http://xmlns.com/foaf/0.1/\",\n",
      "        \"ex\": \"https://example.org\"\n",
      "    },\n",
      "    \"@type\": \"prov:Person\",\n",
      "    \"ex:homeTown\": \"Berlin\",\n",
      "    \"rdfs:label\": \"test_person\",\n",
      "    \"foaf:firstName\": \"John\",\n",
      "    \"foaf:mbox\": \"e@mail.com\",\n",
      "    \"@id\": \"_:N7b25c8f63e044c37bcbb2fe1b41612b9\"\n",
      "}\n"
     ]
    }
   ],
   "source": [
    "print(person.model_dump_jsonld())"
   ]
  },
  {
   "cell_type": "code",
   "execution_count": 10,
   "id": "bbea3eca-1026-4448-b71f-8a8af677aac7",
   "metadata": {},
   "outputs": [],
   "source": [
    "from ontolutils import URIValue"
   ]
  },
  {
   "cell_type": "code",
   "execution_count": 12,
   "id": "f99f246e-cb74-4d4f-bdc9-2f1a7ab12763",
   "metadata": {},
   "outputs": [],
   "source": [
    "a = Person(id='_:123uf4', label='test_person', firstName=\"John\", mbox=\"john@email.com\", homeTown=URIValue(\"Berlin\", \"http://example.org\", \"ex\"))"
   ]
  },
  {
   "cell_type": "code",
   "execution_count": 14,
   "id": "5b0a2a08-75f6-4c65-bfb8-0c0d667d1863",
   "metadata": {},
   "outputs": [
    {
     "name": "stdout",
     "output_type": "stream",
     "text": [
      "{\n",
      "    \"@context\": {\n",
      "        \"owl\": \"http://www.w3.org/2002/07/owl#\",\n",
      "        \"rdfs\": \"http://www.w3.org/2000/01/rdf-schema#\",\n",
      "        \"dcterms\": \"http://purl.org/dc/terms/\",\n",
      "        \"skos\": \"http://www.w3.org/2004/02/skos/core#\",\n",
      "        \"prov\": \"http://www.w3.org/ns/prov#\",\n",
      "        \"foaf\": \"http://xmlns.com/foaf/0.1/\",\n",
      "        \"ex\": \"http://example.org\"\n",
      "    },\n",
      "    \"@type\": \"prov:Person\",\n",
      "    \"ex:homeTown\": \"Berlin\",\n",
      "    \"rdfs:label\": \"test_person\",\n",
      "    \"foaf:firstName\": \"John\",\n",
      "    \"foaf:mbox\": \"john@email.com\",\n",
      "    \"@id\": \"_:123uf4\"\n",
      "}\n"
     ]
    }
   ],
   "source": [
    "print(a.model_dump_jsonld())"
   ]
  },
  {
   "cell_type": "code",
   "execution_count": 15,
   "id": "83019f50-8094-411e-b75f-6d17a60ce9b8",
   "metadata": {},
   "outputs": [
    {
     "ename": "AttributeError",
     "evalue": "'Person' object has no attribute 'model_dump_ttl'",
     "output_type": "error",
     "traceback": [
      "\u001b[1;31m---------------------------------------------------------------------------\u001b[0m",
      "\u001b[1;31mKeyError\u001b[0m                                  Traceback (most recent call last)",
      "File \u001b[1;32m~\\anaconda3\\envs\\ontolutils\\lib\\site-packages\\pydantic\\main.py:983\u001b[0m, in \u001b[0;36mBaseModel.__getattr__\u001b[1;34m(self, item)\u001b[0m\n\u001b[0;32m    982\u001b[0m \u001b[38;5;28;01mtry\u001b[39;00m:\n\u001b[1;32m--> 983\u001b[0m     \u001b[38;5;28;01mreturn\u001b[39;00m \u001b[43mpydantic_extra\u001b[49m\u001b[43m[\u001b[49m\u001b[43mitem\u001b[49m\u001b[43m]\u001b[49m\n\u001b[0;32m    984\u001b[0m \u001b[38;5;28;01mexcept\u001b[39;00m \u001b[38;5;167;01mKeyError\u001b[39;00m \u001b[38;5;28;01mas\u001b[39;00m exc:\n",
      "\u001b[1;31mKeyError\u001b[0m: 'model_dump_ttl'",
      "\nThe above exception was the direct cause of the following exception:\n",
      "\u001b[1;31mAttributeError\u001b[0m                            Traceback (most recent call last)",
      "Cell \u001b[1;32mIn[15], line 1\u001b[0m\n\u001b[1;32m----> 1\u001b[0m \u001b[38;5;28mprint\u001b[39m(\u001b[43ma\u001b[49m\u001b[38;5;241;43m.\u001b[39;49m\u001b[43mmodel_dump_ttl\u001b[49m())\n",
      "File \u001b[1;32m~\\Documents\\GitHub\\ontology-utils\\ontolutils\\classes\\thing.py:48\u001b[0m, in \u001b[0;36mThingModel.__getattr__\u001b[1;34m(self, item)\u001b[0m\n\u001b[0;32m     46\u001b[0m     \u001b[38;5;28;01mif\u001b[39;00m meta\u001b[38;5;241m.\u001b[39malias \u001b[38;5;241m==\u001b[39m item:\n\u001b[0;32m     47\u001b[0m         \u001b[38;5;28;01mreturn\u001b[39;00m \u001b[38;5;28mgetattr\u001b[39m(\u001b[38;5;28mself\u001b[39m, field)\n\u001b[1;32m---> 48\u001b[0m \u001b[38;5;28;01mreturn\u001b[39;00m \u001b[38;5;28;43msuper\u001b[39;49m\u001b[43m(\u001b[49m\u001b[43m)\u001b[49m\u001b[38;5;241;43m.\u001b[39;49m\u001b[38;5;21;43m__getattr__\u001b[39;49m\u001b[43m(\u001b[49m\u001b[43mitem\u001b[49m\u001b[43m)\u001b[49m\n",
      "File \u001b[1;32m~\\anaconda3\\envs\\ontolutils\\lib\\site-packages\\pydantic\\main.py:985\u001b[0m, in \u001b[0;36mBaseModel.__getattr__\u001b[1;34m(self, item)\u001b[0m\n\u001b[0;32m    983\u001b[0m         \u001b[38;5;28;01mreturn\u001b[39;00m pydantic_extra[item]\n\u001b[0;32m    984\u001b[0m     \u001b[38;5;28;01mexcept\u001b[39;00m \u001b[38;5;167;01mKeyError\u001b[39;00m \u001b[38;5;28;01mas\u001b[39;00m exc:\n\u001b[1;32m--> 985\u001b[0m         \u001b[38;5;28;01mraise\u001b[39;00m \u001b[38;5;167;01mAttributeError\u001b[39;00m(\u001b[38;5;124mf\u001b[39m\u001b[38;5;124m'\u001b[39m\u001b[38;5;132;01m{\u001b[39;00m\u001b[38;5;28mtype\u001b[39m(\u001b[38;5;28mself\u001b[39m)\u001b[38;5;241m.\u001b[39m\u001b[38;5;18m__name__\u001b[39m\u001b[38;5;132;01m!r}\u001b[39;00m\u001b[38;5;124m object has no attribute \u001b[39m\u001b[38;5;132;01m{\u001b[39;00mitem\u001b[38;5;132;01m!r}\u001b[39;00m\u001b[38;5;124m'\u001b[39m) \u001b[38;5;28;01mfrom\u001b[39;00m\u001b[38;5;250m \u001b[39m\u001b[38;5;21;01mexc\u001b[39;00m\n\u001b[0;32m    986\u001b[0m \u001b[38;5;28;01melse\u001b[39;00m:\n\u001b[0;32m    987\u001b[0m     \u001b[38;5;28;01mif\u001b[39;00m \u001b[38;5;28mhasattr\u001b[39m(\u001b[38;5;28mself\u001b[39m\u001b[38;5;241m.\u001b[39m\u001b[38;5;18m__class__\u001b[39m, item):\n",
      "\u001b[1;31mAttributeError\u001b[0m: 'Person' object has no attribute 'model_dump_ttl'"
     ]
    }
   ],
   "source": [
    "print(a.model_dump_ttl())"
   ]
  },
  {
   "cell_type": "code",
   "execution_count": null,
   "id": "27b0dea4-ca25-4485-b099-b5b8dace9f19",
   "metadata": {},
   "outputs": [],
   "source": []
  }
 ],
 "metadata": {
  "kernelspec": {
   "display_name": "Python 3 (ipykernel)",
   "language": "python",
   "name": "python3"
  },
  "language_info": {
   "codemirror_mode": {
    "name": "ipython",
    "version": 3
   },
   "file_extension": ".py",
   "mimetype": "text/x-python",
   "name": "python",
   "nbconvert_exporter": "python",
   "pygments_lexer": "ipython3",
   "version": "3.9.21"
  }
 },
 "nbformat": 4,
 "nbformat_minor": 5
}
