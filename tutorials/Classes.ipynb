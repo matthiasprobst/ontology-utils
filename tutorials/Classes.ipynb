{
 "cells": [
  {
   "cell_type": "markdown",
   "id": "9b8289b6-aae7-4b4d-b543-93c188002651",
   "metadata": {},
   "source": [
    "# Classes\n",
    "\n",
    "Code from https://ontology-utils.readthedocs.io/en/latest/userguide/classes.html"
   ]
  },
  {
   "cell_type": "code",
   "execution_count": 1,
   "id": "8064935e-e5a1-4a43-bef7-7ce7bebe142d",
   "metadata": {},
   "outputs": [],
   "source": [
    "from ontolutils import Thing, urirefs, namespaces\n",
    "from pydantic import EmailStr\n",
    "\n",
    "@namespaces(prov=\"http://www.w3.org/ns/prov#\",\n",
    "           foaf=\"http://xmlns.com/foaf/0.1/\")\n",
    "@urirefs(Person='prov:Person',\n",
    "         firstName='foaf:firstName',\n",
    "         lastName='foaf:lastName',\n",
    "         mbox='foaf:mbox')\n",
    "class Person(Thing):\n",
    "    firstName: str\n",
    "    lastName: str = None\n",
    "    mbox: EmailStr = None"
   ]
  },
  {
   "cell_type": "code",
   "execution_count": 2,
   "id": "5395526c-b854-42b7-b23a-73575b6f014b",
   "metadata": {},
   "outputs": [],
   "source": [
    "person = Person(id='_:123uf4', label='test_person', firstName=\"John\", mbox=\"john@email.com\")"
   ]
  },
  {
   "cell_type": "code",
   "execution_count": 3,
   "id": "3fbf9cfc-9e60-446a-adbd-825cef577ad3",
   "metadata": {},
   "outputs": [
    {
     "name": "stdout",
     "output_type": "stream",
     "text": [
      "{\n",
      "    \"@context\": {\n",
      "        \"owl\": \"http://www.w3.org/2002/07/owl#\",\n",
      "        \"rdfs\": \"http://www.w3.org/2000/01/rdf-schema#\",\n",
      "        \"prov\": \"http://www.w3.org/ns/prov#\",\n",
      "        \"foaf\": \"http://xmlns.com/foaf/0.1/\"\n",
      "    },\n",
      "    \"@type\": \"prov:Person\",\n",
      "    \"rdfs:label\": \"test_person\",\n",
      "    \"foaf:firstName\": \"John\",\n",
      "    \"foaf:mbox\": \"john@email.com\",\n",
      "    \"@id\": \"_:123uf4\"\n",
      "}\n"
     ]
    }
   ],
   "source": [
    "person = Person(id='_:123uf4', label='test_person', firstName=\"John\", mbox=\"john@email.com\")\n",
    "print(person.model_dump_jsonld())"
   ]
  },
  {
   "cell_type": "code",
   "execution_count": 4,
   "id": "13cc57ba-3b44-4321-a018-c1e26a2ad26c",
   "metadata": {},
   "outputs": [],
   "source": [
    "with open(\"person.json\", \"w\") as f:\n",
    "    f.write(person.model_dump_jsonld())"
   ]
  },
  {
   "cell_type": "code",
   "execution_count": 5,
   "id": "dba57e94-cad4-44fe-bc43-3a4f9f4abd8d",
   "metadata": {},
   "outputs": [
    {
     "name": "stdout",
     "output_type": "stream",
     "text": [
      "Person(id=_:123uf4, label=test_person, firstName=John, mbox=john@email.com)\n"
     ]
    }
   ],
   "source": [
    "loaded_person = Person.from_jsonld(source=\"person.json\", limit=1)\n",
    "print(loaded_person)"
   ]
  }
 ],
 "metadata": {
  "kernelspec": {
   "display_name": "Python 3 (ipykernel)",
   "language": "python",
   "name": "python3"
  },
  "language_info": {
   "codemirror_mode": {
    "name": "ipython",
    "version": 3
   },
   "file_extension": ".py",
   "mimetype": "text/x-python",
   "name": "python",
   "nbconvert_exporter": "python",
   "pygments_lexer": "ipython3",
   "version": "3.8.19"
  }
 },
 "nbformat": 4,
 "nbformat_minor": 5
}
