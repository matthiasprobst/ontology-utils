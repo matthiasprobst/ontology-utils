{
 "cells": [
  {
   "cell_type": "markdown",
   "id": "9b8289b6-aae7-4b4d-b543-93c188002651",
   "metadata": {},
   "source": [
    "# Classes\n",
    "\n",
    "Code from https://ontology-utils.readthedocs.io/en/latest/userguide/classes.html"
   ]
  },
  {
   "cell_type": "code",
   "execution_count": 1,
   "id": "8064935e-e5a1-4a43-bef7-7ce7bebe142d",
   "metadata": {},
   "outputs": [],
   "source": [
    "from ontolutils import Thing, urirefs, namespaces\n",
    "from pydantic import EmailStr\n",
    "\n",
    "@namespaces(prov=\"http://www.w3.org/ns/prov#\",\n",
    "           foaf=\"http://xmlns.com/foaf/0.1/\")\n",
    "@urirefs(Person='prov:Person',\n",
    "         firstName='foaf:firstName',\n",
    "         lastName='foaf:lastName',\n",
    "         mbox='foaf:mbox')\n",
    "class Person(Thing):\n",
    "    firstName: str\n",
    "    lastName: str = None\n",
    "    mbox: EmailStr = None"
   ]
  },
  {
   "cell_type": "code",
   "execution_count": 2,
   "id": "5395526c-b854-42b7-b23a-73575b6f014b",
   "metadata": {},
   "outputs": [],
   "source": [
    "person = Person(id='_:123uf4', label='test_person', firstName=\"John\", mbox=\"john@email.com\")"
   ]
  },
  {
   "cell_type": "code",
   "execution_count": 3,
   "id": "3fbf9cfc-9e60-446a-adbd-825cef577ad3",
   "metadata": {},
   "outputs": [
    {
     "name": "stdout",
     "output_type": "stream",
     "text": [
      "{\n",
      "    \"@context\": {\n",
      "        \"owl\": \"http://www.w3.org/2002/07/owl#\",\n",
      "        \"rdfs\": \"http://www.w3.org/2000/01/rdf-schema#\",\n",
      "        \"dcterms\": \"http://purl.org/dc/terms/\",\n",
      "        \"skos\": \"http://www.w3.org/2004/02/skos/core#\",\n",
      "        \"prov\": \"http://www.w3.org/ns/prov#\",\n",
      "        \"foaf\": \"http://xmlns.com/foaf/0.1/\"\n",
      "    },\n",
      "    \"@type\": \"prov:Person\",\n",
      "    \"rdfs:label\": \"test_person\",\n",
      "    \"foaf:firstName\": \"John\",\n",
      "    \"foaf:mbox\": \"john@email.com\",\n",
      "    \"@id\": \"_:123uf4\"\n",
      "}\n"
     ]
    }
   ],
   "source": [
    "person = Person(id='_:123uf4', label='test_person', firstName=\"John\", mbox=\"john@email.com\")\n",
    "print(person.model_dump_jsonld())"
   ]
  },
  {
   "cell_type": "code",
   "execution_count": 4,
   "id": "13cc57ba-3b44-4321-a018-c1e26a2ad26c",
   "metadata": {},
   "outputs": [],
   "source": [
    "with open(\"person.json\", \"w\") as f:\n",
    "    f.write(person.model_dump_jsonld())"
   ]
  },
  {
   "cell_type": "code",
   "execution_count": 5,
   "id": "dba57e94-cad4-44fe-bc43-3a4f9f4abd8d",
   "metadata": {},
   "outputs": [
    {
     "name": "stdout",
     "output_type": "stream",
     "text": [
      "Person(id=_:123uf4, label=test_person, firstName=John, mbox=john@email.com)\n"
     ]
    }
   ],
   "source": [
    "loaded_person = Person.from_jsonld(source=\"person.json\", limit=1)\n",
    "print(loaded_person)"
   ]
  },
  {
   "cell_type": "code",
   "execution_count": 6,
   "id": "83a6cdc7-b099-4fc5-b335-f63a75dcb655",
   "metadata": {},
   "outputs": [
    {
     "name": "stdout",
     "output_type": "stream",
     "text": [
      "Person(id=ex:0, label=test_person, firstName=John, mbox=e@mail.com)\n"
     ]
    }
   ],
   "source": [
    "from ontolutils import Thing, urirefs, namespaces, set_config\n",
    "from pydantic import EmailStr\n",
    "\n",
    "@namespaces(prov=\"http://www.w3.org/ns/prov#\",\n",
    "           foaf=\"http://xmlns.com/foaf/0.1/\")\n",
    "@urirefs(Person='prov:Person',\n",
    "         firstName='foaf:firstName',\n",
    "         lastName='foaf:lastName',\n",
    "         mbox='foaf:mbox')\n",
    "class Person(Thing):\n",
    "    firstName: str\n",
    "    lastName: str = None\n",
    "    mbox: EmailStr = None\n",
    "\n",
    "# define an ID generator:\n",
    "from itertools import count\n",
    "counter = count()\n",
    "def my_id_generator():\n",
    "    return f\"_:{next(counter)}\"\n",
    "\n",
    "# set the config:\n",
    "with set_config(blank_node_prefix_name=\"ex:\", blank_id_generator=my_id_generator):\n",
    "    \n",
    "    person = Person(label='test_person', firstName=\"John\", mbox=\"e@mail.com\")\n",
    "\n",
    "    print(person)"
   ]
  },
  {
   "cell_type": "code",
   "execution_count": 7,
   "id": "24101d73-232f-4d9a-bbb1-f181f1b52f2f",
   "metadata": {},
   "outputs": [],
   "source": [
    "from ontolutils import URIValue"
   ]
  },
  {
   "cell_type": "code",
   "execution_count": 8,
   "id": "d92d74e6-9c0d-43a2-90f9-39c32d67d8b0",
   "metadata": {},
   "outputs": [],
   "source": [
    "@namespaces(prov=\"http://www.w3.org/ns/prov#\",\n",
    "           foaf=\"http://xmlns.com/foaf/0.1/\")\n",
    "@urirefs(Person='prov:Person',\n",
    "         firstName='foaf:firstName',\n",
    "         lastName='foaf:lastName',\n",
    "         mbox='foaf:mbox')\n",
    "class Person(Thing):\n",
    "    firstName: str\n",
    "    lastName: str = None\n",
    "    mbox: EmailStr = None\n",
    "\n",
    "person = Person(label='test_person', firstName=\"John\", mbox=\"e@mail.com\", homeTown=URIValue(\"Berlin\", \"https://example.org\", \"ex\"))"
   ]
  },
  {
   "cell_type": "code",
   "execution_count": 9,
   "id": "640797c8-283e-4169-ba1f-601a598c2750",
   "metadata": {},
   "outputs": [
    {
     "name": "stdout",
     "output_type": "stream",
     "text": [
      "{\n",
      "    \"@context\": {\n",
      "        \"owl\": \"http://www.w3.org/2002/07/owl#\",\n",
      "        \"rdfs\": \"http://www.w3.org/2000/01/rdf-schema#\",\n",
      "        \"dcterms\": \"http://purl.org/dc/terms/\",\n",
      "        \"skos\": \"http://www.w3.org/2004/02/skos/core#\",\n",
      "        \"prov\": \"http://www.w3.org/ns/prov#\",\n",
      "        \"foaf\": \"http://xmlns.com/foaf/0.1/\",\n",
      "        \"ex\": \"https://example.org\"\n",
      "    },\n",
      "    \"@type\": \"prov:Person\",\n",
      "    \"ex:homeTown\": \"Berlin\",\n",
      "    \"rdfs:label\": \"test_person\",\n",
      "    \"foaf:firstName\": \"John\",\n",
      "    \"foaf:mbox\": \"e@mail.com\",\n",
      "    \"@id\": \"_:N8c1f30601ccd4e4dadbf9841dfdc4d15\"\n",
      "}\n"
     ]
    }
   ],
   "source": [
    "print(person.model_dump_jsonld())"
   ]
  },
  {
   "cell_type": "code",
   "execution_count": 10,
   "id": "bbea3eca-1026-4448-b71f-8a8af677aac7",
   "metadata": {},
   "outputs": [],
   "source": [
    "from ontolutils import URIValue"
   ]
  },
  {
   "cell_type": "code",
   "execution_count": 11,
   "id": "f99f246e-cb74-4d4f-bdc9-2f1a7ab12763",
   "metadata": {},
   "outputs": [],
   "source": [
    "a = Person(id='_:123uf4', label='test_person', firstName=\"John\", mbox=\"john@email.com\", homeTown=URIValue(\"Berlin\", \"http://example.org\", \"ex\"))"
   ]
  },
  {
   "cell_type": "code",
   "execution_count": 12,
   "id": "5b0a2a08-75f6-4c65-bfb8-0c0d667d1863",
   "metadata": {},
   "outputs": [
    {
     "name": "stdout",
     "output_type": "stream",
     "text": [
      "{\n",
      "    \"@context\": {\n",
      "        \"owl\": \"http://www.w3.org/2002/07/owl#\",\n",
      "        \"rdfs\": \"http://www.w3.org/2000/01/rdf-schema#\",\n",
      "        \"dcterms\": \"http://purl.org/dc/terms/\",\n",
      "        \"skos\": \"http://www.w3.org/2004/02/skos/core#\",\n",
      "        \"prov\": \"http://www.w3.org/ns/prov#\",\n",
      "        \"foaf\": \"http://xmlns.com/foaf/0.1/\",\n",
      "        \"ex\": \"http://example.org\"\n",
      "    },\n",
      "    \"@type\": \"prov:Person\",\n",
      "    \"ex:homeTown\": \"Berlin\",\n",
      "    \"rdfs:label\": \"test_person\",\n",
      "    \"foaf:firstName\": \"John\",\n",
      "    \"foaf:mbox\": \"john@email.com\",\n",
      "    \"@id\": \"_:123uf4\"\n",
      "}\n"
     ]
    }
   ],
   "source": [
    "print(a.model_dump_jsonld())"
   ]
  },
  {
   "cell_type": "code",
   "execution_count": 13,
   "id": "83019f50-8094-411e-b75f-6d17a60ce9b8",
   "metadata": {},
   "outputs": [
    {
     "name": "stdout",
     "output_type": "stream",
     "text": [
      "@prefix foaf: <http://xmlns.com/foaf/0.1/> .\n",
      "@prefix ns1: <ex:> .\n",
      "@prefix prov: <http://www.w3.org/ns/prov#> .\n",
      "@prefix rdfs: <http://www.w3.org/2000/01/rdf-schema#> .\n",
      "\n",
      "[] a prov:Person ;\n",
      "    rdfs:label \"test_person\" ;\n",
      "    ns1:homeTown \"Berlin\" ;\n",
      "    foaf:firstName \"John\" ;\n",
      "    foaf:mbox \"john@email.com\" .\n",
      "\n",
      "\n"
     ]
    }
   ],
   "source": [
    "print(a.model_dump_ttl())"
   ]
  },
  {
   "cell_type": "code",
   "execution_count": 14,
   "id": "27b0dea4-ca25-4485-b099-b5b8dace9f19",
   "metadata": {},
   "outputs": [],
   "source": [
    "@namespaces(prov=\"http://www.w3.org/ns/prov#\",\n",
    "           foaf=\"http://xmlns.com/foaf/0.1/\")\n",
    "@urirefs(PersonAlternative='prov:PersonAlternative',\n",
    "         firstName='foaf:firstName',\n",
    "         lastName='foaf:lastName',\n",
    "         mbox='foaf:mbox')\n",
    "class PersonAlternative(Thing):\n",
    "    firstName: str\n",
    "    lastName: str = None\n",
    "    mbox: EmailStr = None"
   ]
  },
  {
   "cell_type": "code",
   "execution_count": 15,
   "id": "8cb74a4c-d111-49f4-a145-b01c91e8e91f",
   "metadata": {},
   "outputs": [],
   "source": [
    "person_alt = PersonAlternative(label='test_person', firstName=\"John\", mbox=\"e@mail.com\", homeTown=URIValue(\"Berlin\", \"https://example.org\", \"ex\"))"
   ]
  },
  {
   "cell_type": "code",
   "execution_count": 16,
   "id": "0d1ca0ee-2d4f-4f22-bb7c-1f8ea02d9ea5",
   "metadata": {},
   "outputs": [
    {
     "data": {
      "text/html": [
       "Person(id=_:N8c1f30601ccd4e4dadbf9841dfdc4d15, label=test_person, firstName=John, mbox=e@mail.com, homeTown=URIValue(value='Berlin', namespace='https://example.org', prefix='ex'))"
      ],
      "text/plain": [
       "Person(id=_:N8c1f30601ccd4e4dadbf9841dfdc4d15, label=test_person, firstName=John, mbox=e@mail.com, homeTown=URIValue(value='Berlin', namespace='https://example.org', prefix='ex'))"
      ]
     },
     "execution_count": 16,
     "metadata": {},
     "output_type": "execute_result"
    }
   ],
   "source": [
    "person"
   ]
  },
  {
   "cell_type": "code",
   "execution_count": 17,
   "id": "0c55008e-a5dc-49c0-832e-f5ae0c5c56c4",
   "metadata": {},
   "outputs": [
    {
     "data": {
      "text/html": [
       "PersonAlternative(id=_:N6e9cee3027c44378813c778d43b8c58b, label=test_person, firstName=John, mbox=e@mail.com, homeTown=URIValue(value='Berlin', namespace='https://example.org', prefix='ex'))"
      ],
      "text/plain": [
       "PersonAlternative(id=_:N6e9cee3027c44378813c778d43b8c58b, label=test_person, firstName=John, mbox=e@mail.com, homeTown=URIValue(value='Berlin', namespace='https://example.org', prefix='ex'))"
      ]
     },
     "execution_count": 17,
     "metadata": {},
     "output_type": "execute_result"
    }
   ],
   "source": [
    "person_alt"
   ]
  },
  {
   "cell_type": "code",
   "execution_count": 20,
   "id": "9fc34598-cda1-418d-8493-576ba24d58b9",
   "metadata": {},
   "outputs": [
    {
     "data": {
      "text/html": [
       "Person(id=_:N6e9cee3027c44378813c778d43b8c58b, label=test_person, firstName=John, mbox=e@mail.com, homeTown={'value': 'Berlin', 'namespace': 'https://example.org', 'prefix': 'ex'})"
      ],
      "text/plain": [
       "Person(id=_:N6e9cee3027c44378813c778d43b8c58b, label=test_person, firstName=John, mbox=e@mail.com, homeTown={'value': 'Berlin', 'namespace': 'https://example.org', 'prefix': 'ex'})"
      ]
     },
     "execution_count": 20,
     "metadata": {},
     "output_type": "execute_result"
    }
   ],
   "source": [
    "person_alt.map(Person)"
   ]
  },
  {
   "cell_type": "code",
   "execution_count": null,
   "id": "d764f401-ca8e-4b94-972a-e8df340374c8",
   "metadata": {},
   "outputs": [],
   "source": []
  }
 ],
 "metadata": {
  "kernelspec": {
   "display_name": "Python 3 (ipykernel)",
   "language": "python",
   "name": "python3"
  },
  "language_info": {
   "codemirror_mode": {
    "name": "ipython",
    "version": 3
   },
   "file_extension": ".py",
   "mimetype": "text/x-python",
   "name": "python",
   "nbconvert_exporter": "python",
   "pygments_lexer": "ipython3",
   "version": "3.9.21"
  }
 },
 "nbformat": 4,
 "nbformat_minor": 5
}
